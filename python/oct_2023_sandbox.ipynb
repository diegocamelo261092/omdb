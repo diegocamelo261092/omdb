{
 "cells": [
  {
   "cell_type": "code",
   "execution_count": 2,
   "metadata": {},
   "outputs": [
    {
     "name": "stderr",
     "output_type": "stream",
     "text": [
      "/Users/Diego/opt/miniconda3/lib/python3.9/site-packages/snowflake/connector/options.py:103: UserWarning: You have an incompatible version of 'pyarrow' installed (11.0.0), please install a version that adheres to: 'pyarrow<10.1.0,>=10.0.1; extra == \"pandas\"'\n",
      "  warn_incompatible_dep(\n"
     ]
    }
   ],
   "source": [
    "import snowflake.connector\n",
    "\n",
    "def snowflake_connection() -> snowflake.connector.connection:\n",
    "\n",
    "    \"\"\" Creates a connection to Snowflake.\n",
    "    Gets credentials from .env file.\n",
    "\n",
    "    Returns:\n",
    "        conn: Snowflake connection object.\n",
    "    \"\"\"\n",
    "\n",
    "    try:\n",
    "        # Snowflake configuration and connection\n",
    "        conn = snowflake.connector.connect(\n",
    "            user=os.getenv('user'),\n",
    "            password=os.getenv('password'),\n",
    "            account=os.getenv('account'),\n",
    "            warehouse=os.getenv('warehouse'),\n",
    "            database=os.getenv('database'),\n",
    "            schema=os.getenv('schema')\n",
    "        )\n",
    "\n",
    "        logging.info(\"Successfully connected to Snowflake.\")\n",
    "        print('-'*80)\n",
    "        return conn\n",
    "\n",
    "    except Exception as e:\n",
    "        logging.error(f\"An error occured connecting to the db: {str(e)}\")"
   ]
  },
  {
   "cell_type": "code",
   "execution_count": 3,
   "metadata": {},
   "outputs": [
    {
     "name": "stdout",
     "output_type": "stream",
     "text": [
      "--------------------------------------------------------------------------------\n",
      "('tt0000002',)\n",
      "('tt0000004',)\n",
      "('tt0000001',)\n",
      "('tt0000658',)\n",
      "('tt0000839',)\n",
      "('tt0001170',)\n",
      "('tt0001581',)\n",
      "('tt0001664',)\n",
      "('tt0001732',)\n",
      "('tt0001887',)\n"
     ]
    }
   ],
   "source": [
    "import os\n",
    "import logging\n",
    "from dotenv import load_dotenv\n",
    "import snowflake.connector\n",
    "\n",
    "conn = snowflake_connection()\n",
    "\n",
    "logging.basicConfig(level=logging.INFO, format=\"%(asctime)s - [%(levelname)s] %(name)s => %(message)s\")\n",
    "\n",
    "cursor = conn.cursor()   \n",
    "\n",
    "sql_query = \"select * from omdb.landing.imdb_ids limit 10\"\n",
    "\n",
    "# try:\n",
    "    # Execute the query\n",
    "cursor.execute(sql_query)\n",
    "\n",
    "    # Fetch the results\n",
    "results = cursor.fetchall()\n",
    "\n",
    "    # Process and print the results\n",
    "for row in results:\n",
    "    print(row)\n",
    "\n",
    "# except Exception as e:\n",
    "#     print(f\"An error occurred while executing the query: {str(e)}\")\n",
    "\n",
    "# Close the cursor and the connection when done\n",
    "cursor.close()\n",
    "conn.close()"
   ]
  }
 ],
 "metadata": {
  "kernelspec": {
   "display_name": "Python 3",
   "language": "python",
   "name": "python3"
  },
  "language_info": {
   "codemirror_mode": {
    "name": "ipython",
    "version": 3
   },
   "file_extension": ".py",
   "mimetype": "text/x-python",
   "name": "python",
   "nbconvert_exporter": "python",
   "pygments_lexer": "ipython3",
   "version": "3.9.16"
  }
 },
 "nbformat": 4,
 "nbformat_minor": 2
}
