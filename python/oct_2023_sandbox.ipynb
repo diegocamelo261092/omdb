{
 "cells": [
  {
   "cell_type": "code",
   "execution_count": 1,
   "metadata": {},
   "outputs": [
    {
     "name": "stderr",
     "output_type": "stream",
     "text": [
      "/Users/Diego/opt/miniconda3/lib/python3.9/site-packages/snowflake/connector/options.py:103: UserWarning: You have an incompatible version of 'pyarrow' installed (11.0.0), please install a version that adheres to: 'pyarrow<10.1.0,>=10.0.1; extra == \"pandas\"'\n",
      "  warn_incompatible_dep(\n"
     ]
    }
   ],
   "source": [
    "import snowflake.connector\n",
    "\n",
    "def snowflake_connection() -> snowflake.connector.connection:\n",
    "\n",
    "    \"\"\" Creates a connection to Snowflake.\n",
    "    Gets credentials from .env file.\n",
    "\n",
    "    Returns:\n",
    "        conn: Snowflake connection object.\n",
    "    \"\"\"\n",
    "\n",
    "    try:\n",
    "        # Snowflake configuration and connection\n",
    "        conn = snowflake.connector.connect(\n",
    "            user=os.getenv('user'),\n",
    "            password=os.getenv('password'),\n",
    "            account=os.getenv('account'),\n",
    "            warehouse=os.getenv('warehouse'),\n",
    "            database=os.getenv('database'),\n",
    "            schema=os.getenv('schema')\n",
    "            )\n",
    "        logging.info(\"Successfully connected to Snowflake.\")\n",
    "        print('-'*80)\n",
    "        return conn\n",
    "\n",
    "    except Exception as e:\n",
    "        logging.error(f\"An error occured connecting to the db: {str(e)}\")"
   ]
  }
 ],
 "metadata": {
  "kernelspec": {
   "display_name": "Python 3",
   "language": "python",
   "name": "python3"
  },
  "language_info": {
   "codemirror_mode": {
    "name": "ipython",
    "version": 3
   },
   "file_extension": ".py",
   "mimetype": "text/x-python",
   "name": "python",
   "nbconvert_exporter": "python",
   "pygments_lexer": "ipython3",
   "version": "3.9.16"
  }
 },
 "nbformat": 4,
 "nbformat_minor": 2
}
